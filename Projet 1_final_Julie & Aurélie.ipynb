{
 "cells": [
  {
   "cell_type": "code",
   "execution_count": 1,
   "metadata": {},
   "outputs": [],
   "source": [
    "def merge(l_left, l_right):\n",
    "    final_lst = []\n",
    "    while len(l_left) > 0 and len(l_right) > 0:\n",
    "        a = l_left[0]\n",
    "        b = l_right[0]\n",
    "        if a <= b:\n",
    "            final_lst.append(l_left.pop(0)) # pop est in place\n",
    "        else:\n",
    "            final_lst.append(l_right.pop(0))\n",
    "    final_lst += l_left + l_right\n",
    "    return final_lst\n",
    "\n",
    "def m_s_asc(lst): \n",
    "    l_len = len(lst)\n",
    "    if l_len == 0:\n",
    "        raise ValueError\n",
    "    elif l_len == 1:\n",
    "        return lst\n",
    "    elif l_len == 2:\n",
    "        if lst[0] <= lst[1]:\n",
    "            return lst\n",
    "        elif lst[0] > lst[1]:\n",
    "            lst[0], lst[1] = lst[1], lst[0]\n",
    "            return lst\n",
    "    else:\n",
    "        # on divise le pb\n",
    "        l_left = lst[:l_len//2] \n",
    "        l_right = lst[l_len//2:]\n",
    "        # appel récursif\n",
    "        l_left = m_s_asc(l_left)\n",
    "        l_right = m_s_asc(l_right)\n",
    "        # on fusionne et on retourne la liste fusionnée\n",
    "        merged = merge(l_left, l_right)\n",
    "        return merged\n",
    "\n",
    "def merge_sort(lst, reversed = False):\n",
    "    if reversed:\n",
    "        return m_s_asc(lst)[::-1]\n",
    "    else:\n",
    "        return m_s_asc(lst)"
   ]
  },
  {
   "cell_type": "code",
   "execution_count": 2,
   "metadata": {},
   "outputs": [],
   "source": [
    "lst = [9, 3, -100, 40, 2, 6, -3, -4]\n",
    "reversed = True"
   ]
  },
  {
   "cell_type": "code",
   "execution_count": 3,
   "metadata": {},
   "outputs": [
    {
     "data": {
      "text/plain": [
       "[40, 9, 6, 3, 2, -3, -4, -100]"
      ]
     },
     "execution_count": 3,
     "metadata": {},
     "output_type": "execute_result"
    }
   ],
   "source": [
    "merge_sort(lst, reversed)"
   ]
  },
  {
   "cell_type": "code",
   "execution_count": null,
   "metadata": {},
   "outputs": [],
   "source": []
  }
 ],
 "metadata": {
  "kernelspec": {
   "display_name": "Python 3",
   "language": "python",
   "name": "python3"
  },
  "language_info": {
   "codemirror_mode": {
    "name": "ipython",
    "version": 3
   },
   "file_extension": ".py",
   "mimetype": "text/x-python",
   "name": "python",
   "nbconvert_exporter": "python",
   "pygments_lexer": "ipython3",
   "version": "3.8.3"
  }
 },
 "nbformat": 4,
 "nbformat_minor": 4
}
